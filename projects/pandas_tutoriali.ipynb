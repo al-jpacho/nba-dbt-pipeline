{
 "cells": [
  {
   "cell_type": "markdown",
   "metadata": {},
   "source": [
    "# Getting Started with Pandas and DuckDB\n",
    "\n",
    "This notebook will walk you through how to work with real NBA data using two powerful tools in Python:\n",
    "\n",
    "- **DuckDB**, a super-fast in-process SQL database (like SQLite but for analytics)\n",
    "- **Pandas**, a library for working with tables (called \"DataFrames\")\n",
    "\n",
    "We’ll start by connecting to the database and then gradually learn how to filter, group, and analyse data using Python code.\n",
    "\n",
    "Even if this is your first time seeing Python, don’t worry — each section includes an explanation of what’s happening and why.\n"
   ]
  },
  {
   "cell_type": "code",
   "execution_count": 1,
   "metadata": {},
   "outputs": [],
   "source": [
    "# First, import the libraries we need\n",
    "import duckdb  # lets us run SQL in Python\n",
    "import pandas as pd  # used to work with tabular data\n",
    "\n",
    "# Now, connect to our NBA database\n",
    "con = duckdb.connect('../duckdb/nba.duckdb', read_only=True)\n",
    "\n",
    "# This database is just a single file on your computer — no server needed\n"
   ]
  },
  {
   "cell_type": "code",
   "execution_count": null,
   "metadata": {},
   "outputs": [],
   "source": [
    "# Let's see what tables exist in our database\n",
    "# These are like sheets in Excel or tabs in Google Sheets\n",
    "con.execute(\"SHOW TABLES\").fetchdf()\n"
   ]
  },
  {
   "cell_type": "markdown",
   "metadata": {},
   "source": [
    "Each row in the table above represents a dataset we can work with. We'll mostly use:\n",
    "\n",
    "- `players_cleaned`: info about players (names, positions, height, age)\n",
    "- `player_stats_cleaned`: performance data (points per game, assists, etc.)\n",
    "- `top_scorers_by_season`: players with the highest average points (already filtered for us)\n"
   ]
  },
  {
   "cell_type": "code",
   "execution_count": null,
   "metadata": {},
   "outputs": [],
   "source": [
    "# Load the full player stats table into a DataFrame (think: spreadsheet in code)\n",
    "df_stats = con.execute(\"SELECT * FROM player_stats_cleaned\").fetchdf()\n",
    "\n",
    "# Let's look at the first 5 rows\n",
    "df_stats.head()\n"
   ]
  },
  {
   "cell_type": "markdown",
   "metadata": {},
   "source": [
    "This gives us a preview of the table as a Pandas DataFrame. Each row is one player. Each column is one stat (like `points_per_game` or `games_played`).\n",
    "\n",
    "You can think of `df_stats` as a named spreadsheet inside your code.\n"
   ]
  },
  {
   "cell_type": "code",
   "execution_count": null,
   "metadata": {},
   "outputs": [],
   "source": [
    "# .info() shows column names, data types, and whether there are missing values\n",
    "df_stats.info()"
   ]
  },
  {
   "cell_type": "code",
   "execution_count": null,
   "metadata": {},
   "outputs": [],
   "source": [
    "# .describe() gives basic statistics like min, max, mean, and quartiles\n",
    "df_stats.describe()\n"
   ]
  },
  {
   "cell_type": "markdown",
   "metadata": {},
   "source": [
    "These are your quick stats for all numeric columns:\n",
    "- Count = how many values (not missing)\n",
    "- Mean = average\n",
    "- Std = how spread out the data is (standard deviation)\n",
    "- Min/Max = lowest and highest values\n",
    "\n",
    "Great for spotting weird values or getting a feel for the data.\n"
   ]
  },
  {
   "cell_type": "code",
   "execution_count": null,
   "metadata": {},
   "outputs": [],
   "source": [
    "# Let's find players who played more than 50 games\n",
    "df_stats[df_stats[\"games_played\"] > 50]\n"
   ]
  },
  {
   "cell_type": "markdown",
   "metadata": {},
   "source": [
    "This is called **boolean indexing**. We're telling pandas:\n",
    "> Show me only the rows where `games_played` is greater than 50.\n",
    "\n",
    "This is one of the most common and powerful tools in pandas: filtering your data to focus on just what you need.\n"
   ]
  },
  {
   "cell_type": "code",
   "execution_count": null,
   "metadata": {},
   "outputs": [],
   "source": [
    "# Show the top 10 scorers by points per game\n",
    "df_stats.sort_values(\"points_per_game\", ascending=False).head(10)\n"
   ]
  },
  {
   "cell_type": "markdown",
   "metadata": {},
   "source": [
    "We use `.sort_values()` to order the DataFrame.\n",
    "- `\"points_per_game\"` is the column we're sorting by\n",
    "- `ascending=False` means highest scores first\n",
    "- `.head(10)` shows only the top 10 rows\n"
   ]
  },
  {
   "cell_type": "code",
   "execution_count": null,
   "metadata": {},
   "outputs": [],
   "source": [
    "# Load player info so we can group by position\n",
    "df_players = con.execute(\"SELECT * FROM players_cleaned\").fetchdf()\n",
    "\n",
    "# Merge player stats and player info using player_id (the shared key)\n",
    "df_joined = pd.merge(df_stats, df_players, on=\"player_id\")\n",
    "\n",
    "# Now group by position and calculate average points per game\n",
    "df_joined.groupby(\"position\")[\"points_per_game\"].mean().sort_values(ascending=False)\n"
   ]
  },
  {
   "cell_type": "markdown",
   "metadata": {},
   "source": [
    "This is our first grouped analysis:\n",
    "- `pd.merge(...)` combines the stats and player info into one table\n",
    "- `.groupby(\"position\")` splits the data into groups (one for each position)\n",
    "- `[\"points_per_game\"].mean()` calculates the average within each group\n",
    "\n",
    "This is great for comparing categories.\n"
   ]
  },
  {
   "cell_type": "markdown",
   "metadata": {},
   "source": [
    "### Visualisation Using Python\n",
    "\n",
    "[matplotlib documentation](https://matplotlib.org/stable/index.html)\n",
    "\n",
    "In this tutorial, we’ll use **matplotlib**, which is the most widely-used plotting library in Python.\n",
    "\n",
    "matplotlib lets you create charts and plots directly from your data — just like you'd do in Excel or Google Sheets, but with code. You can use it to draw:\n",
    "- Bar charts\n",
    "- Line graphs\n",
    "- Histograms\n",
    "- Scatter plots\n",
    "- And more\n",
    "\n",
    "It’s especially useful when you're exploring data and want to **see patterns** or **communicate insights visually**.\n",
    "\n",
    "---\n",
    "\n",
    "In the example below, we use matplotlib (through a built-in pandas method) to create a **histogram** — a type of bar chart that shows how data is distributed across ranges.\n",
    "\n",
    "This lets you quickly answer questions like:\n",
    "- How common are 20+ PPG (points per game) players?\n",
    "- Is the data skewed toward low or high scores?\n",
    "- Are there any surprising gaps or outliers in the data?\n",
    "\n",
    "You’ll see matplotlib pop up again and again in real-world data analysis — it’s a foundational skill worth getting comfortable with.\n"
   ]
  },
  {
   "cell_type": "code",
   "execution_count": null,
   "metadata": {},
   "outputs": [],
   "source": [
    "import matplotlib.pyplot as plt\n",
    "\n",
    "# Plot histogram of points per game\n",
    "df_stats[\"points_per_game\"].plot(kind=\"hist\", bins=30, title=\"Points Per Game Distribution\")\n",
    "\n",
    "plt.xlabel(\"Points Per Game\")\n",
    "plt.ylabel(\"Number of Players\")\n",
    "plt.show()\n"
   ]
  },
  {
   "cell_type": "markdown",
   "metadata": {},
   "source": [
    "## What You’ve Learned\n",
    "\n",
    "- How to connect to a DuckDB database in Python\n",
    "- How to read SQL tables into pandas DataFrames\n",
    "- How to explore, filter, and sort tabular data\n",
    "- How to group by categories and calculate averages\n",
    "- How to visualise a distribution with a histogram\n",
    "\n",
    "This is a great foundation for doing real-world data analysis.\n",
    "\n",
    "Next steps:\n",
    "- Try filtering by other columns (assists, rebounds)\n",
    "- Build your own leaderboard\n",
    "- Add visualisations like bar plots or scatter plots\n"
   ]
  },
  {
   "cell_type": "markdown",
   "metadata": {},
   "source": [
    "# Homework: Explore the NBA Data\n",
    "\n",
    "---\n",
    "\n",
    "Here are some practice tasks to help you get more comfortable working with real data. These are designed to help you explore the dataset using the skills you've just learned.\n",
    "\n",
    "Don’t worry about getting everything perfect — just try things out and see what you can discover.\n"
   ]
  },
  {
   "cell_type": "markdown",
   "metadata": {},
   "source": [
    "## Task 1: Sorting by Other Stats\n",
    "\n",
    "---\n",
    "\n",
    "### What You’re Learning:\n",
    "How to reorder the rows in your dataset based on the values in a specific column.\n",
    "\n",
    "Sorting helps you identify top or bottom performers — for example, the players with the most minutes, highest number of rebounds, or fewest turnovers.\n"
   ]
  },
  {
   "cell_type": "code",
   "execution_count": null,
   "metadata": {},
   "outputs": [],
   "source": [
    "# Example: Sort by most points\n",
    "df_stats.sort_values(\"points_per_game\", ascending=False).head(10)\n"
   ]
  },
  {
   "cell_type": "markdown",
   "metadata": {},
   "source": [
    "### Task 1a: Answer the following quesitons\n",
    "- Who are the top rebounders?\n",
    "- Which players had the most steals?\n",
    "- Who turned the ball over the most?"
   ]
  },
  {
   "cell_type": "code",
   "execution_count": 19,
   "metadata": {},
   "outputs": [],
   "source": [
    "# Which player had the most rebounds?"
   ]
  },
  {
   "cell_type": "code",
   "execution_count": 20,
   "metadata": {},
   "outputs": [],
   "source": [
    "# Which player had the most steals?"
   ]
  },
  {
   "cell_type": "code",
   "execution_count": 21,
   "metadata": {},
   "outputs": [],
   "source": [
    "# Which player had the most turnovers?"
   ]
  },
  {
   "cell_type": "markdown",
   "metadata": {},
   "source": [
    "- Most reboudns:\n",
    "- Most steals: \n",
    "- Most turnovers:"
   ]
  },
  {
   "cell_type": "markdown",
   "metadata": {},
   "source": [
    "## Task 2: Filtering Rows Based on a Condition\n",
    "\n",
    "---\n",
    "\n",
    "### What You’re Learning:\n",
    "How to select only the rows that meet a specific condition — for example, players who scored more than a certain number of points, or played in a minimum number of games.\n",
    "\n",
    "This is one of the most common operations in data analysis. It helps you focus on just the part of the dataset that matters for your question.\n"
   ]
  },
  {
   "cell_type": "code",
   "execution_count": null,
   "metadata": {},
   "outputs": [],
   "source": [
    "# Example: Players with more than 1500 total points\n",
    "df_stats[df_stats[\"points_per_game\"] > 1500]"
   ]
  },
  {
   "cell_type": "markdown",
   "metadata": {},
   "source": [
    "### Task 2a: Find all players who averaged more than 500 this season."
   ]
  },
  {
   "cell_type": "code",
   "execution_count": 26,
   "metadata": {},
   "outputs": [],
   "source": [
    "# Players with more than 500 assits"
   ]
  },
  {
   "cell_type": "markdown",
   "metadata": {},
   "source": [
    "## Task 3: Filtering with Multiple Conditions\n",
    "---\n",
    "\n",
    "### What You’re Learning:\n",
    "How to filter using more than one condition (AND / OR)."
   ]
  },
  {
   "cell_type": "code",
   "execution_count": null,
   "metadata": {},
   "outputs": [],
   "source": [
    "# Example: Players with >1500 points AND >70 games played\n",
    "df_stats[\n",
    "    (df_stats[\"points_per_game\"] > 1500) & \n",
    "    (df_stats[\"games_played\"] > 70)\n",
    "]"
   ]
  },
  {
   "cell_type": "markdown",
   "metadata": {},
   "source": [
    "### Task 3a: Find players who played more than 60 games and had fewer than 200 total turnovers"
   ]
  },
  {
   "cell_type": "code",
   "execution_count": 30,
   "metadata": {},
   "outputs": [],
   "source": [
    "# Players with more than 60 games played and less than 200 turnovers"
   ]
  },
  {
   "cell_type": "markdown",
   "metadata": {},
   "source": [
    "## Task 4: Selecting Columns\n",
    "---\n",
    "\n",
    "### What You’re Learning:\n",
    "How to view just the columns you care about."
   ]
  },
  {
   "cell_type": "code",
   "execution_count": null,
   "metadata": {},
   "outputs": [],
   "source": [
    "\n",
    "# Example: Show player name and total points\n",
    "df_stats[[\"player_name\", \"points_per_game\"]]"
   ]
  },
  {
   "cell_type": "markdown",
   "metadata": {},
   "source": [
    "### Task 4a: Show a table with just `player_name`,`team _id`, `minutes_per_game`"
   ]
  },
  {
   "cell_type": "code",
   "execution_count": 34,
   "metadata": {},
   "outputs": [],
   "source": [
    "# Columns: player_name, team_id, minutes_per_game"
   ]
  },
  {
   "cell_type": "markdown",
   "metadata": {},
   "source": [
    "## Task 5: Creating New Columns\n",
    "---\n",
    "\n",
    "\n",
    "### What You’re Learning:\n",
    "How to calculate your own stat using columns."
   ]
  },
  {
   "cell_type": "code",
   "execution_count": null,
   "metadata": {},
   "outputs": [],
   "source": [
    "# Example: Custom stat (PRA = total_points + total_assists + total_rebounds)\n",
    "df_stats[\"score\"] = (\n",
    "    df_stats[\"points_per_game\"] +\n",
    "    df_stats[\"assists_per_game\"] +\n",
    "    df_stats[\"rebounds_per_game\"]\n",
    ")   \n",
    "\n",
    "df_stats[[\"player_name\", \"score\"]].sort_values(by=\"score\", ascending=False)"
   ]
  },
  {
   "cell_type": "markdown",
   "metadata": {},
   "source": [
    "### Task 5a: Create new columns for season averages\n",
    "\n",
    "\n",
    "Right now, all of the stats in your DataFrame are **season totals** (e.g. total points, total assists).  \n",
    "But sometimes it's more useful to compare players by how much they contributed **per game**.\n",
    "\n",
    "In this task, you’ll create **new columns** that calculate per-game averages for each player.\n",
    "\n",
    "---\n",
    "\n",
    "#### What to Do:\n",
    "\n",
    "- Create three new columns with per-game stats.\n",
    "- Use clear names like `avg_points`, `avg_assists`, and `avg_rebounds`.\n",
    "\n",
    "Once you’ve created the new columns, display a table showing each player’s name, number of games played, and their per-game averages.\n",
    "\n",
    "---\n",
    "\n",
    "#### Follow-Up\n",
    "\n",
    "- Sort the DataFrame to find the players with the highest `avg_points`.\n",
    "- What can you tell from the top of that list?"
   ]
  },
  {
   "cell_type": "code",
   "execution_count": 54,
   "metadata": {},
   "outputs": [],
   "source": [
    "# Average points"
   ]
  },
  {
   "cell_type": "code",
   "execution_count": 55,
   "metadata": {},
   "outputs": [],
   "source": [
    "# Average assists"
   ]
  },
  {
   "cell_type": "code",
   "execution_count": 56,
   "metadata": {},
   "outputs": [],
   "source": [
    "# Average rebounds"
   ]
  },
  {
   "cell_type": "markdown",
   "metadata": {},
   "source": [
    "### Task 6: Visualise the Top Scorers\n",
    "\n",
    "Now that you’ve calculated average points per game, let’s visualise it.\n",
    "\n",
    "- Note: use Google and the docs for matplotlib to figure out how to make a bar chart\n",
    "\n",
    "---\n",
    "\n",
    "#### Your Goal:\n",
    "\n",
    "Create a **bar chart** that shows the top 10 players by `avg_points`.\n",
    "\n",
    "---\n",
    "\n",
    "#### What to Do:\n",
    "\n",
    "- Sort the DataFrame by `avg_points`\n",
    "- Select the top 10 players\n",
    "- Plot a bar chart using:\n",
    "  - Player name on the x-axis\n",
    "  - Average points on the y-axis\n",
    "\n",
    "Use your judgment to make the chart clear and readable. Add a title, adjust the labels if needed, and make sure the x-axis text isn’t cut off.\n",
    "\n",
    "---\n",
    "\n",
    "#### Follow-Up\n",
    "\n",
    "- Try plotting a similar chart for `avg_assists` or `avg_rebounds`.\n",
    "- What differences do you notice in who appears on each chart?\n"
   ]
  },
  {
   "cell_type": "code",
   "execution_count": 57,
   "metadata": {},
   "outputs": [],
   "source": [
    "# Average points chart"
   ]
  },
  {
   "cell_type": "code",
   "execution_count": 58,
   "metadata": {},
   "outputs": [],
   "source": [
    "# Average assists"
   ]
  },
  {
   "cell_type": "code",
   "execution_count": 59,
   "metadata": {},
   "outputs": [],
   "source": [
    "# Average assists"
   ]
  },
  {
   "cell_type": "code",
   "execution_count": null,
   "metadata": {},
   "outputs": [],
   "source": []
  }
 ],
 "metadata": {
  "kernelspec": {
   "display_name": "venv",
   "language": "python",
   "name": "python3"
  },
  "language_info": {
   "codemirror_mode": {
    "name": "ipython",
    "version": 3
   },
   "file_extension": ".py",
   "mimetype": "text/x-python",
   "name": "python",
   "nbconvert_exporter": "python",
   "pygments_lexer": "ipython3",
   "version": "3.13.2"
  }
 },
 "nbformat": 4,
 "nbformat_minor": 2
}
