{
 "cells": [
  {
   "cell_type": "code",
   "execution_count": 14,
   "metadata": {},
   "outputs": [],
   "source": [
    "import duckdb\n",
    "import pandas as pd\n",
    "from nba_api.stats.endpoints import commonallplayers, leaguedashplayerstats"
   ]
  },
  {
   "cell_type": "code",
   "execution_count": null,
   "metadata": {},
   "outputs": [],
   "source": [
    "# Pull players into a dataframe\n",
    "\n",
    "players = commonallplayers.CommonAllPlayers(is_only_current_season=0)\n",
    "\n",
    "df_players = players.get_data_frames()[0]\n",
    "\n",
    "df_players.head(10)"
   ]
  },
  {
   "cell_type": "code",
   "execution_count": null,
   "metadata": {},
   "outputs": [],
   "source": [
    "# Pull player stats for 2024-2025 season\n",
    "\n",
    "player_stats = leaguedashplayerstats.LeagueDashPlayerStats(season='2024-25', per_mode_detailed='PerGame')\n",
    "\n",
    "df_player_stats = player_stats.get_data_frames()[0]\n",
    "\n",
    "df_player_stats.head(10)"
   ]
  },
  {
   "cell_type": "markdown",
   "metadata": {},
   "source": [
    "## Load raw data into duckdb"
   ]
  },
  {
   "cell_type": "code",
   "execution_count": 21,
   "metadata": {},
   "outputs": [],
   "source": [
    "sql_raw_players_table = \"\"\"\n",
    "create or replace table raw.players as\n",
    "select * from df_players\n",
    "\"\"\"\n",
    "\n",
    "sql_raw_player_stats_table = \"\"\"\n",
    "create or replace table raw.player_stats as \n",
    "select * from df_player_stats\n",
    "\"\"\"\n",
    "\n",
    "with duckdb.connect('../duckdb/nba.duckdb') as con:\n",
    "    con.execute(\"create schema if not exists raw\")\n",
    "    con.execute(sql_raw_players_table)\n",
    "    con.execute(sql_raw_player_stats_table)\n"
   ]
  },
  {
   "cell_type": "code",
   "execution_count": null,
   "metadata": {},
   "outputs": [],
   "source": [
    "with duckdb.connect('../duckdb/nba.duckdb') as con:\n",
    "    display(con.sql(\"\"\"\n",
    "        select table_schema, table_name\n",
    "        from information_schema.tables\n",
    "        order by table_schema, table_name\n",
    "    \"\"\").to_df())\n"
   ]
  },
  {
   "cell_type": "code",
   "execution_count": null,
   "metadata": {},
   "outputs": [],
   "source": []
  }
 ],
 "metadata": {
  "kernelspec": {
   "display_name": "venv",
   "language": "python",
   "name": "python3"
  },
  "language_info": {
   "codemirror_mode": {
    "name": "ipython",
    "version": 3
   },
   "file_extension": ".py",
   "mimetype": "text/x-python",
   "name": "python",
   "nbconvert_exporter": "python",
   "pygments_lexer": "ipython3",
   "version": "3.13.2"
  }
 },
 "nbformat": 4,
 "nbformat_minor": 2
}
